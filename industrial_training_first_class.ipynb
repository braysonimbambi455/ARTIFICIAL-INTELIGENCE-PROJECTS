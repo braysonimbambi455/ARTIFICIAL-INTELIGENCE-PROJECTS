{
  "nbformat": 4,
  "nbformat_minor": 0,
  "metadata": {
    "colab": {
      "provenance": [],
      "authorship_tag": "ABX9TyMCn/16PFbEFZGpbbvdwXCQ",
      "include_colab_link": true
    },
    "kernelspec": {
      "name": "python3",
      "display_name": "Python 3"
    },
    "language_info": {
      "name": "python"
    }
  },
  "cells": [
    {
      "cell_type": "markdown",
      "metadata": {
        "id": "view-in-github",
        "colab_type": "text"
      },
      "source": [
        "<a href=\"https://colab.research.google.com/github/braysonimbambi455/ARTIFICIAL-INTELIGENCE-PROJECTS/blob/main/industrial_training_first_class.ipynb\" target=\"_parent\"><img src=\"https://colab.research.google.com/assets/colab-badge.svg\" alt=\"Open In Colab\"/></a>"
      ]
    },
    {
      "cell_type": "code",
      "execution_count": null,
      "metadata": {
        "id": "oor7-arL83K4"
      },
      "outputs": [],
      "source": [
        "import pandas as pd #import pandas for data manipulation\n",
        "import numpy as np #import numpy for numerical operations\n",
        "import plotly.express as px #import plotly express for interactive visualization\n",
        "import plotly.graph_objects as go #import plotly Graphs objects from advanced visualization\n",
        "import bokeh.plotting as bp #import Bokeh for web based interactive visualization\n",
        "import altair as alt #import altair for declarative data visualization\n",
        "import seaborn as sns #import seaborn for statistical data visualization\n",
        "import matplotlib.pyplot as plt #importing Matplotlib for standard plotting\n",
        "from scipy import stats #importing Scipy for stastical analysis\n",
        "from statsmodels.tsa.arima.model import ARIMA #importing ARIMA model for time series forecasting\n",
        "import geopandas as gpd #importing Geopandas for handling spatial data\n",
        "import folium #importing Folium for interactive map visualization"
      ]
    },
    {
      "cell_type": "code",
      "source": [
        "[] #1.introduction to EDA\n",
        "#Loading a sample dataset\n",
        "df = pd.read_csv(\"https://raw.githubusercontent.com/mwaskom/seaborn-data/master/tips.csv\") #Loading the tips dataset"
      ],
      "metadata": {
        "id": "1cx6G6u7AZns"
      },
      "execution_count": null,
      "outputs": []
    },
    {
      "cell_type": "code",
      "source": [
        "[] #1.3.1 understanding data structure\n",
        "print(df.head())#display first five rows of the data set\n"
      ],
      "metadata": {
        "colab": {
          "base_uri": "https://localhost:8080/"
        },
        "id": "8JkN-qNQBypM",
        "outputId": "73cea039-0290-4735-c5c8-e58e181d47fc"
      },
      "execution_count": null,
      "outputs": [
        {
          "output_type": "stream",
          "name": "stdout",
          "text": [
            "   total_bill   tip     sex smoker  day    time  size\n",
            "0       16.99  1.01  Female     No  Sun  Dinner     2\n",
            "1       10.34  1.66    Male     No  Sun  Dinner     3\n",
            "2       21.01  3.50    Male     No  Sun  Dinner     3\n",
            "3       23.68  3.31    Male     No  Sun  Dinner     2\n",
            "4       24.59  3.61  Female     No  Sun  Dinner     4\n"
          ]
        }
      ]
    },
    {
      "cell_type": "code",
      "source": [
        "print(df.info())#display data structure and data types"
      ],
      "metadata": {
        "colab": {
          "base_uri": "https://localhost:8080/"
        },
        "id": "IxK1HisaC-Bc",
        "outputId": "d4ec2040-127f-4669-9d12-cebcdefd5434"
      },
      "execution_count": null,
      "outputs": [
        {
          "output_type": "stream",
          "name": "stdout",
          "text": [
            "<class 'pandas.core.frame.DataFrame'>\n",
            "RangeIndex: 244 entries, 0 to 243\n",
            "Data columns (total 7 columns):\n",
            " #   Column      Non-Null Count  Dtype  \n",
            "---  ------      --------------  -----  \n",
            " 0   total_bill  244 non-null    float64\n",
            " 1   tip         244 non-null    float64\n",
            " 2   sex         244 non-null    object \n",
            " 3   smoker      244 non-null    object \n",
            " 4   day         244 non-null    object \n",
            " 5   time        244 non-null    object \n",
            " 6   size        244 non-null    int64  \n",
            "dtypes: float64(2), int64(1), object(4)\n",
            "memory usage: 13.5+ KB\n",
            "None\n"
          ]
        }
      ]
    },
    {
      "cell_type": "code",
      "source": [
        "print(df.tail())#display last five rows"
      ],
      "metadata": {
        "colab": {
          "base_uri": "https://localhost:8080/"
        },
        "id": "Fyk9qUZLDDvN",
        "outputId": "a746ffa3-e923-49f7-a0e9-4f38ce9af7f1"
      },
      "execution_count": null,
      "outputs": [
        {
          "output_type": "stream",
          "name": "stdout",
          "text": [
            "     total_bill   tip     sex smoker   day    time  size\n",
            "239       29.03  5.92    Male     No   Sat  Dinner     3\n",
            "240       27.18  2.00  Female    Yes   Sat  Dinner     2\n",
            "241       22.67  2.00    Male    Yes   Sat  Dinner     2\n",
            "242       17.82  1.75    Male     No   Sat  Dinner     2\n",
            "243       18.78  3.00  Female     No  Thur  Dinner     2\n"
          ]
        }
      ]
    }
  ]
}